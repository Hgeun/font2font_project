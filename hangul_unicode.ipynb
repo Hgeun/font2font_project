{
 "cells": [
  {
   "cell_type": "markdown",
   "metadata": {},
   "source": [
    "참고사이트\n",
    "1. [나무위키-현대한글의 모든글자](https://namu.wiki/w/%ED%98%84%EB%8C%80%20%ED%95%9C%EA%B8%80%EC%9D%98%20%EB%AA%A8%EB%93%A0%20%EA%B8%80%EC%9E%90)\n",
    "2. [나무위키-유니코드](https://namu.wiki/w/%EC%9C%A0%EB%8B%88%EC%BD%94%EB%93%9C)\n",
    "3. [유니코드(UTF-8) 한글 코드표(by.jjeong님 티스토리)](http://jjeong.tistory.com/696)"
   ]
  },
  {
   "cell_type": "code",
   "execution_count": 1,
   "metadata": {},
   "outputs": [
    {
     "data": {
      "text/plain": [
       "'가'"
      ]
     },
     "execution_count": 1,
     "metadata": {},
     "output_type": "execute_result"
    }
   ],
   "source": [
    "a = '가'\n",
    "a"
   ]
  },
  {
   "cell_type": "code",
   "execution_count": 2,
   "metadata": {},
   "outputs": [
    {
     "data": {
      "text/plain": [
       "b'\\xea\\xb0\\x80'"
      ]
     },
     "execution_count": 2,
     "metadata": {},
     "output_type": "execute_result"
    }
   ],
   "source": [
    "a.encode('utf-8')"
   ]
  },
  {
   "cell_type": "code",
   "execution_count": 3,
   "metadata": {},
   "outputs": [
    {
     "data": {
      "text/plain": [
       "b'\\xea\\xb0\\x80'"
      ]
     },
     "execution_count": 3,
     "metadata": {},
     "output_type": "execute_result"
    }
   ],
   "source": [
    "a = b'\\xea\\xb0\\x80'\n",
    "a"
   ]
  },
  {
   "cell_type": "code",
   "execution_count": 4,
   "metadata": {},
   "outputs": [
    {
     "data": {
      "text/plain": [
       "'가'"
      ]
     },
     "execution_count": 4,
     "metadata": {},
     "output_type": "execute_result"
    }
   ],
   "source": [
    "a.decode('utf-8')"
   ]
  },
  {
   "cell_type": "code",
   "execution_count": 5,
   "metadata": {},
   "outputs": [
    {
     "data": {
      "text/plain": [
       "'가'"
      ]
     },
     "execution_count": 5,
     "metadata": {},
     "output_type": "execute_result"
    }
   ],
   "source": [
    "a = '\\uac00'\n",
    "a"
   ]
  },
  {
   "cell_type": "code",
   "execution_count": 6,
   "metadata": {},
   "outputs": [
    {
     "data": {
      "text/plain": [
       "44032"
      ]
     },
     "execution_count": 6,
     "metadata": {},
     "output_type": "execute_result"
    }
   ],
   "source": [
    "ord(a)"
   ]
  },
  {
   "cell_type": "code",
   "execution_count": 7,
   "metadata": {},
   "outputs": [
    {
     "data": {
      "text/plain": [
       "44033"
      ]
     },
     "execution_count": 7,
     "metadata": {},
     "output_type": "execute_result"
    }
   ],
   "source": [
    "ord(a)+1"
   ]
  },
  {
   "cell_type": "code",
   "execution_count": 8,
   "metadata": {},
   "outputs": [
    {
     "data": {
      "text/plain": [
       "'각'"
      ]
     },
     "execution_count": 8,
     "metadata": {},
     "output_type": "execute_result"
    }
   ],
   "source": [
    "chr(ord(a)+1)"
   ]
  },
  {
   "cell_type": "code",
   "execution_count": 9,
   "metadata": {},
   "outputs": [
    {
     "name": "stdout",
     "output_type": "stream",
     "text": [
      "0\n",
      "1\n",
      "2\n",
      "3\n",
      "4\n",
      "5\n",
      "6\n",
      "7\n",
      "8\n",
      "9\n"
     ]
    }
   ],
   "source": [
    "str(ord(a)+1)\n",
    "\n",
    "for n in range(10):\n",
    "    print(n)\n"
   ]
  },
  {
   "cell_type": "code",
   "execution_count": 10,
   "metadata": {},
   "outputs": [],
   "source": [
    "import numpy as np\n",
    "import os\n",
    "import PIL\n",
    "from PIL import Image\n",
    "from PIL import ImageDraw\n",
    "from PIL import ImageFont\n",
    "from PIL import ImageStat\n",
    "# shows how to generate images of a hangul character\n",
    "#\n",
    "# yndk@sogang.ac.kr\n",
    "\n",
    "def draw_single_char(ch, font, canvas_size, x_offset, y_offset):\n",
    "    img = Image.new(\"RGB\", (canvas_size, canvas_size), (255, 255, 255))\n",
    "    draw = ImageDraw.Draw(img)\n",
    "    draw.text((x_offset, y_offset), ch, (0, 0, 0), font=font)\n",
    "    return img\n",
    "#\n",
    "char_size = 64\n",
    "canvas_size = 64\n",
    "x_offset = 0\n",
    "y_offset = 0\n",
    "\n",
    "npim = []\n",
    "npim2 = []\n",
    "num = []\n",
    "start = '\\uac00'\n",
    "\n",
    "for n in range(11172):\n",
    "    filename = str(ord(start)+n) +'.jpg'\n",
    "    # font file & PIL Font structure\n",
    "    font_file = './BMYEONSUNG_ttf.ttf'\n",
    "    font = ImageFont.truetype (font_file, size=char_size)\n",
    "\n",
    "    # draw on a PIL Image\n",
    "    ch = chr(ord(start)+n)\n",
    "    #pil_img = draw_single_char (ch, font, canvas_size, x_offset, y_offset)\n",
    "    #pil_img.show()\n",
    "\n",
    "    # we can try to put the character at the center of the canvas\n",
    "    w, h = font.getsize(ch)\n",
    "    pil_img_center = draw_single_char (ch, font, canvas_size, x_offset+(canvas_size-w)//2, y_offset + (canvas_size-h)//2)\n",
    "    #pil_img_center.show()\n",
    "    # another font\n",
    "    fontfile2 = './SDMiSaeng.ttf'\n",
    "    font2 = ImageFont.truetype (fontfile2, size=char_size)\n",
    "\n",
    "    pil_img2 = draw_single_char (ch, font2, canvas_size, x_offset, y_offset)\n",
    "    #pil_img2.show()\n",
    "    pil_img2_center = draw_single_char (ch, font2, canvas_size, x_offset+(canvas_size-w)//2, y_offset + (canvas_size-h)//2)\n",
    "    #pil_img2_center.show()\n",
    "    if np.mean(PIL.ImageStat.Stat(pil_img_center).mean) != 255:\n",
    "        num.append(n)\n",
    "        #pil_img_center.save('./im_myeonsung/'+filename)\n",
    "        #pil_img2_center.save('./im_misaeng/'+filename)\n",
    "\n",
    "    # conversion to numpy\n",
    "    \n",
    "    npim.append(np.array (pil_img_center))\n",
    "    npim2.append(np.array (pil_img2_center))\n",
    "    \n",
    "#np.savetxt('save_num.txt',num,fmt='%5d')"
   ]
  },
  {
   "cell_type": "code",
   "execution_count": 11,
   "metadata": {},
   "outputs": [
    {
     "data": {
      "text/plain": [
       "255.0"
      ]
     },
     "execution_count": 11,
     "metadata": {},
     "output_type": "execute_result"
    }
   ],
   "source": [
    "np.mean(PIL.ImageStat.Stat(pil_img_center).mean)"
   ]
  },
  {
   "cell_type": "code",
   "execution_count": 12,
   "metadata": {},
   "outputs": [
    {
     "data": {
      "text/plain": [
       "PIL.Image.Image"
      ]
     },
     "execution_count": 12,
     "metadata": {},
     "output_type": "execute_result"
    }
   ],
   "source": [
    "type(pil_img_center)"
   ]
  }
 ],
 "metadata": {
  "kernelspec": {
   "display_name": "Python 3",
   "language": "python",
   "name": "python3"
  },
  "language_info": {
   "codemirror_mode": {
    "name": "ipython",
    "version": 3
   },
   "file_extension": ".py",
   "mimetype": "text/x-python",
   "name": "python",
   "nbconvert_exporter": "python",
   "pygments_lexer": "ipython3",
   "version": "3.7.0"
  }
 },
 "nbformat": 4,
 "nbformat_minor": 2
}
